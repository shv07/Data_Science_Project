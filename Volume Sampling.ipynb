{
 "cells": [
  {
   "cell_type": "code",
   "execution_count": 1,
   "metadata": {},
   "outputs": [],
   "source": [
    "import numpy as np\n",
    "import matplotlib.pyplot as plt"
   ]
  },
  {
   "cell_type": "markdown",
   "metadata": {},
   "source": [
    "Incomplete Adaptive Sampling Algorithm"
   ]
  },
  {
   "cell_type": "markdown",
   "metadata": {},
   "source": [
    "## Other code for adaptive sampling\n"
   ]
  },
  {
   "cell_type": "markdown",
   "metadata": {},
   "source": [
    "This is a nice Jupyter Notebook\n",
    "* http://wangshusen.github.io/code/adaptivesampling.html"
   ]
  },
  {
   "cell_type": "markdown",
   "metadata": {},
   "source": [
    "Code here is majorly referred from\n",
    "* https://arxiv.org/pdf/1705.06908.pdf"
   ]
  },
  {
   "cell_type": "markdown",
   "metadata": {},
   "source": [
    "Sanity Check"
   ]
  },
  {
   "cell_type": "code",
   "execution_count": 123,
   "metadata": {},
   "outputs": [],
   "source": [
    "def volume_sampling(matrix,sample_percent):\n",
    "    ''' The arguments here are the matrix in the transposed form\n",
    "        We need to pass X (dxn), instead of the standard X(nxd)'''\n",
    "    fraction = sample_percent/100\n",
    "    n = matrix.shape[1]\n",
    "    threshold = n*fraction\n",
    "    S = list(i for i in range(matrix.shape[1]))\n",
    "    z = np.linalg.inv(np.dot(matrix, np.transpose(matrix)))\n",
    "    print(z.shape,matrix.shape)\n",
    "    prob = [1 - np.transpose(matrix[:,i]).dot(z).dot(matrix[:,i]) for i in range(n)]\n",
    "    \n",
    "    prob = np.array(prob)\n",
    "    prob = prob/prob.sum()\n",
    "    temp = fraction*n\n",
    "    len_s = len(S)\n",
    "    while len_s>temp:\n",
    "        print(prob)\n",
    "        sample = np.random.choice(np.arange(len_s),p=prob)\n",
    "#         print(sample)\n",
    "        print(z.shape)\n",
    "        v = np.dot(z,matrix[:,sample])\n",
    "        v = v/(np.sqrt(prob[sample]))\n",
    "        S.pop(sample)\n",
    "        print(len(S))\n",
    "        for j in range(len_s-1):\n",
    "            if j!=sample:\n",
    "                print(np.dot(matrix[:,j],v),prob[j],sample)\n",
    "                prob[j] = prob[j] - (np.dot(matrix[:,j],v))**2\n",
    "        z = z + np.dot(v,v)\n",
    "    return S\n",
    "# volume_sampling(m.T,0)"
   ]
  }
 ],
 "metadata": {
  "kernelspec": {
   "display_name": "Python 3",
   "language": "python",
   "name": "python3"
  },
  "language_info": {
   "codemirror_mode": {
    "name": "ipython",
    "version": 3
   },
   "file_extension": ".py",
   "mimetype": "text/x-python",
   "name": "python",
   "nbconvert_exporter": "python",
   "pygments_lexer": "ipython3",
   "version": "3.6.8"
  }
 },
 "nbformat": 4,
 "nbformat_minor": 2
}
